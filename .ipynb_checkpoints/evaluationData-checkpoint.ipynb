{
 "cells": [
  {
   "cell_type": "code",
   "execution_count": 2,
   "metadata": {},
   "outputs": [],
   "source": [
    "import zipfile\n",
    "with zipfile.ZipFile('./test_images.zip', 'r') as zip_ref:\n",
    "    zip_ref.extractall('./')"
   ]
  },
  {
   "cell_type": "code",
   "execution_count": null,
   "metadata": {},
   "outputs": [],
   "source": [
    "from PIL import Image\n",
    "import pandas as pd\n",
    "import glob\n",
    "image_list = []\n",
    "for filepath in glob.glob('./test_images/*.ppm', recursive=True): #assuming gif\n",
    "    filename = filepath.split(\"/\")[-1]\n",
    "    label = filepath.split(\"/\")[-2]\n",
    "#     print(filepath, filename, label)\n",
    "    image_list.append((filepath, label))\n",
    "    \n",
    "    \n",
    "    img = Image.open(filepath).convert('LA')\n",
    "    img.save('greyscale.png')\n",
    "    \n",
    "# Create a data frame\n",
    "data = pd.DataFrame(data=image_list, columns=['image_path', 'label'])"
   ]
  }
 ],
 "metadata": {
  "kernelspec": {
   "display_name": "conda_tensorflow_p36",
   "language": "python",
   "name": "conda_tensorflow_p36"
  },
  "language_info": {
   "codemirror_mode": {
    "name": "ipython",
    "version": 3
   },
   "file_extension": ".py",
   "mimetype": "text/x-python",
   "name": "python",
   "nbconvert_exporter": "python",
   "pygments_lexer": "ipython3",
   "version": "3.6.6"
  }
 },
 "nbformat": 4,
 "nbformat_minor": 4
}
